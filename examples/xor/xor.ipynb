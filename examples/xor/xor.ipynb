{
 "cells": [
  {
   "cell_type": "code",
   "execution_count": 3,
   "id": "a623ef1d-9d93-4e09-9ffa-af0776e9946d",
   "metadata": {},
   "outputs": [],
   "source": [
    "import os\n",
    "import sys\n",
    "\n",
    "# Import keras3_tools from proper path\n",
    "neuro_path = os.getenv(\"NEURO_REPOSITORY_PATH\")\n",
    "assert neuro_path is not None, \"Environment variable NEURO_REPOSITORY_PATH must be set to directory above zero2neuro and keras3_tools\"\n",
    "\n",
    "sys.path.append(neuro_path + '/zero2neuro/src/')\n",
    "\n",
    "from zero2neuro import *\n",
    "from parser import *"
   ]
  },
  {
   "cell_type": "code",
   "execution_count": 6,
   "id": "9d4e9a08-6e3d-48b2-ad39-d8dabaf7ed12",
   "metadata": {},
   "outputs": [
    {
     "name": "stdout",
     "output_type": "stream",
     "text": [
      "Namespace(experiment_name='xor', loss='mse', metrics=['mae', 'mse'], rotation=0, epochs=5000, learning_rate=0.001, clipnorm=None, results_path='./results', output_file_base='{args.experiment_name}_R{args.rotation:02d}', early_stopping_min_delta=0.01, early_stopping_patience=2000, early_stopping_monitor='loss', dataset_directory=None, training_mode='training_only', data_format='tabular', data_file='xor_data.csv', data_files=None, data_inputs=['In 0', 'In 1'], data_outputs=['Out 0'], data_output_sparse_categorical=False, batch=None, prefetch=3, num_parallel_calls=4, cache=None, shuffle=None, repeat=False, steps_per_epoch=None, steps_per_validation_epoch=None, nogo=False, force=True, verbose=1, cpus_per_task=None, gpu=False, render_model=True, save_model=True, log_training_set=True, log_validation_set=False, log_test_set=False, wandb=False, wandb_project='Supernetwork', note=None, network_type='fully_connected', input_shape0=[2], hidden_activation='elu', number_hidden_units=[20, 10], output_shape0=[1], output_activation='sigmoid', batch_normalization=False, conv_size=None, conv_nfilters=None, kernel_size=3, activation_conv='elu', dropout=None, dropout_input=None, spatial_dropout=None, L1_regularization=None, L2_regularization=None)\n"
     ]
    }
   ],
   "source": [
    "parser = create_parser()\n",
    "args = parser.parse_args([\"@network.txt\", \"@data.txt\", \"@experiment.txt\", \"-v\", \"--force\"])\n",
    "print(args)"
   ]
  },
  {
   "cell_type": "code",
   "execution_count": 7,
   "id": "7c37d219-494a-4704-90a2-0af1186e3ad6",
   "metadata": {},
   "outputs": [
    {
     "name": "stdout",
     "output_type": "stream",
     "text": [
      "NO VISIBLE DEVICES!!!!\n",
      "GPUS: []\n",
      "NO GPU\n",
      "CSV file\n",
      "./results/xor_R00\n",
      "Fitting model\n",
      "\u001b[1m1/1\u001b[0m \u001b[32m━━━━━━━━━━━━━━━━━━━━\u001b[0m\u001b[37m\u001b[0m \u001b[1m0s\u001b[0m 92ms/step - loss: 0.0047 - mae: 0.0684 - mse: 0.0047\n",
      "\u001b[1m1/1\u001b[0m \u001b[32m━━━━━━━━━━━━━━━━━━━━\u001b[0m\u001b[37m\u001b[0m \u001b[1m0s\u001b[0m 39ms/step\n"
     ]
    }
   ],
   "source": [
    " prepare_and_execute_experiment(args)"
   ]
  },
  {
   "cell_type": "code",
   "execution_count": null,
   "id": "b8ce14b5-399c-4f25-98bc-e91b53e505b9",
   "metadata": {},
   "outputs": [],
   "source": []
  }
 ],
 "metadata": {
  "kernelspec": {
   "display_name": "Python 3 (ipykernel)",
   "language": "python",
   "name": "python3"
  },
  "language_info": {
   "codemirror_mode": {
    "name": "ipython",
    "version": 3
   },
   "file_extension": ".py",
   "mimetype": "text/x-python",
   "name": "python",
   "nbconvert_exporter": "python",
   "pygments_lexer": "ipython3",
   "version": "3.12.10"
  }
 },
 "nbformat": 4,
 "nbformat_minor": 5
}
