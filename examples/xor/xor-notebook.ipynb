{
 "cells": [
  {
   "cell_type": "markdown",
   "id": "3cf3e6a4-6895-4b24-9386-925f7d540d27",
   "metadata": {},
   "source": [
    "# XOR Example\n",
    "## Training Notebook\n",
    "This notebook trains the model. The first cell imports everything needed. The second cell is where you pass in your arguments. The third cell runs the model training. Lastly, the fourth cell is there if you wish to continue training a certain model."
   ]
  },
  {
   "cell_type": "code",
   "execution_count": null,
   "id": "a623ef1d-9d93-4e09-9ffa-af0776e9946d",
   "metadata": {},
   "outputs": [],
   "source": [
    "import os\n",
    "import sys\n",
    "\n",
    "# Import keras3_tools from proper path\n",
    "neuro_path = os.getenv(\"NEURO_REPOSITORY_PATH\")\n",
    "assert neuro_path is not None, \"Environment variable NEURO_REPOSITORY_PATH must be set to directory above zero2neuro and keras3_tools\"\n",
    "\n",
    "sys.path.append(neuro_path + '/zero2neuro/src/')\n",
    "\n",
    "from zero2neuro import *\n",
    "from parser import *"
   ]
  },
  {
   "cell_type": "code",
   "execution_count": null,
   "id": "9d4e9a08-6e3d-48b2-ad39-d8dabaf7ed12",
   "metadata": {},
   "outputs": [],
   "source": [
    "parser = create_parser()\n",
    "args = parser.parse_args([\"@network.txt\", \"@data.txt\", \"@experiment.txt\", \"-v\", \"--force\", \"--log_training_set\"])\n",
    "print(args)"
   ]
  },
  {
   "cell_type": "code",
   "execution_count": null,
   "id": "7c37d219-494a-4704-90a2-0af1186e3ad6",
   "metadata": {},
   "outputs": [],
   "source": [
    "prepare_and_execute_experiment(args)"
   ]
  },
  {
   "cell_type": "code",
   "execution_count": null,
   "id": "6f6a022d-fd8e-466c-9577-577f06dd2a80",
   "metadata": {},
   "outputs": [],
   "source": [
    "# Load model and dataset and redo experiment \n",
    "xor_model = keras.models.load_model('results/xor_R01_model.keras')\n",
    "sds = SuperDataSet(args)\n",
    "execute_exp(sds, xor_model, args)"
   ]
  }
 ],
 "metadata": {
  "kernelspec": {
   "display_name": "Python 3 (ipykernel)",
   "language": "python",
   "name": "python3"
  },
  "language_info": {
   "codemirror_mode": {
    "name": "ipython",
    "version": 3
   },
   "file_extension": ".py",
   "mimetype": "text/x-python",
   "name": "python",
   "nbconvert_exporter": "python",
   "pygments_lexer": "ipython3",
   "version": "3.12.10"
  }
 },
 "nbformat": 4,
 "nbformat_minor": 5
}
