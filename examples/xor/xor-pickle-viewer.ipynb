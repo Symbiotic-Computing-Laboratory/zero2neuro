{
 "cells": [
  {
   "cell_type": "code",
   "execution_count": null,
   "id": "b8b87e0f-69cf-49b5-9954-1086d4c9ff66",
   "metadata": {},
   "outputs": [],
   "source": [
    "import pickle\n",
    "import matplotlib.pyplot as plt\n",
    "import numpy as np\n",
    "import os\n",
    "# Will probably have to make look nicer but tried to make it as generic as possible. \n",
    "# Assume the directory for the results is a subdirectory of working directory.\n",
    "directory ='./results' \n",
    "for filename in os.listdir(directory): # For each file in directory\n",
    "    if filename.endswith('.pkl'): # Find files that are pickle files\n",
    "        file_path = os.path.join(directory, filename) # Get the file path for those files\n",
    "        with open(file_path, 'rb') as pickle_file: # Open the files\n",
    "            data = pickle.load(pickle_file) # Grab the data from pickle\n",
    "            plt.plot(data['history']['loss'], label=filename) # Grab the loss data and plot\n",
    "plt.xlabel('Epoch')\n",
    "plt.ylabel('Loss')\n",
    "plt.title('Epoch/Loss')\n",
    "plt.grid(True)\n",
    "plt.legend() # Show the legend\n",
    "# Saving functions\n",
    "# plt.savefig(\"file/path.png\") \n",
    "# plt.savefig(\"file/path.pdf\")\n",
    "plt.show() # Show plot "
   ]
  },
  {
   "cell_type": "code",
   "execution_count": null,
   "id": "96165955-bc02-47ba-924c-8597c4e6288c",
   "metadata": {},
   "outputs": [],
   "source": [
    "# Show data and what model predicted\n",
    "print('Training Data\\n', data['ins_training'])\n",
    "print('Output Data\\n', data['outs_training'])\n",
    "print('What the model predicted\\n', data['predict_training'])"
   ]
  },
  {
   "cell_type": "code",
   "execution_count": null,
   "id": "b258456f-f6c3-4ec9-a061-2388f4c95605",
   "metadata": {},
   "outputs": [],
   "source": [
    "# Make an arary of absolute error margins and then find the maximum error.\n",
    "errors = np.abs(data['predict_training'] - data['outs_training'])\n",
    "max_error = np.max(errors)\n",
    "print('Max Error\\n', max_error)"
   ]
  }
 ],
 "metadata": {
  "kernelspec": {
   "display_name": "Python 3 (ipykernel)",
   "language": "python",
   "name": "python3"
  },
  "language_info": {
   "codemirror_mode": {
    "name": "ipython",
    "version": 3
   },
   "file_extension": ".py",
   "mimetype": "text/x-python",
   "name": "python",
   "nbconvert_exporter": "python",
   "pygments_lexer": "ipython3",
   "version": "3.12.10"
  }
 },
 "nbformat": 4,
 "nbformat_minor": 5
}
