{
 "cells": [
  {
   "cell_type": "markdown",
   "id": "21359c3e-5c94-4295-af68-47d826353bff",
   "metadata": {},
   "source": [
    "# Iris Example\n",
    "## Training Notebook\n",
    "This notebook trains the model. The first cell imports everything needed. The second cell is where you pass in your arguments. The third cell runs the model training. Lastly, the fourth cell is there if you wish to continue training a certain model."
   ]
  },
  {
   "cell_type": "code",
   "execution_count": 1,
   "id": "445dadc3-f54e-48e1-97b3-b11e2db60c39",
   "metadata": {},
   "outputs": [
    {
     "name": "stderr",
     "output_type": "stream",
     "text": [
      "2025-07-29 15:44:14.622217: I tensorflow/core/util/port.cc:153] oneDNN custom operations are on. You may see slightly different numerical results due to floating-point round-off errors from different computation orders. To turn them off, set the environment variable `TF_ENABLE_ONEDNN_OPTS=0`.\n",
      "2025-07-29 15:44:14.629323: E external/local_xla/xla/stream_executor/cuda/cuda_fft.cc:477] Unable to register cuFFT factory: Attempting to register factory for plugin cuFFT when one has already been registered\n",
      "WARNING: All log messages before absl::InitializeLog() is called are written to STDERR\n",
      "E0000 00:00:1753821854.639104  535719 cuda_dnn.cc:8310] Unable to register cuDNN factory: Attempting to register factory for plugin cuDNN when one has already been registered\n",
      "E0000 00:00:1753821854.642272  535719 cuda_blas.cc:1418] Unable to register cuBLAS factory: Attempting to register factory for plugin cuBLAS when one has already been registered\n",
      "2025-07-29 15:44:14.652398: I tensorflow/core/platform/cpu_feature_guard.cc:210] This TensorFlow binary is optimized to use available CPU instructions in performance-critical operations.\n",
      "To enable the following instructions: SSE4.1 SSE4.2 AVX AVX2 AVX_VNNI FMA, in other operations, rebuild TensorFlow with the appropriate compiler flags.\n"
     ]
    }
   ],
   "source": [
    "%reload_ext autoreload\n",
    "%autoreload 2\n",
    "\n",
    "import os\n",
    "import sys\n",
    "\n",
    "# Import keras3_tools from proper path\n",
    "neuro_path = os.getenv(\"NEURO_REPOSITORY_PATH\")\n",
    "assert neuro_path is not None, \"Environment variable NEURO_REPOSITORY_PATH must be set to directory above zero2neuro and keras3_tools\"\n",
    "\n",
    "sys.path.append(neuro_path + '/zero2neuro/src/')\n",
    "\n",
    "from zero2neuro import *\n",
    "from parser import *"
   ]
  },
  {
   "cell_type": "markdown",
   "id": "9a86eb4f-c62b-4748-8b9c-35f6e67a7f1d",
   "metadata": {},
   "source": [
    "## Parser\n",
    "This is the argument parser. Inside of the parse_args function you can put in the arguments you want that are listed in the zero2neuro/src/parser.py file. The default set in this notebooks is as follows. \n",
    "\n",
    "@network.txt - Passes in the network file for iris  \n",
    "@data.txt - Passes in the data file for Iris  \n",
    "@experiment.txt - Passes in the experiment file for iris  \n",
    "**-v** - Handles the verbosity level, in this case it is low.    \n",
    "**--force** - Will overwrite a previous model with the same name with the new one.  \n",
    "**--log_training_set** - Puts the training set in the pickle file  \n",
    "**--log_validation_set** - Puts the validation set in the pickle file  \n",
    "**--log_test_set** - Puts the testing set in the pickle file "
   ]
  },
  {
   "cell_type": "code",
   "execution_count": 9,
   "id": "135c2b53-0b59-4be5-a3da-42eb91fddd96",
   "metadata": {},
   "outputs": [
    {
     "name": "stdout",
     "output_type": "stream",
     "text": [
      "Namespace(experiment_name='iris', loss='sparse_categorical_crossentropy', metrics=['sparse_categorical_accuracy'], rotation=None, epochs=5000, learning_rate=0.0001, clipnorm=None, results_path='./results', output_file_base='{args.experiment_name}_R{args.data_rotation:02d}', early_stopping=False, early_stopping_min_delta=0.01, early_stopping_patience=2000, early_stopping_monitor='loss', dataset_directory=None, training_mode=None, data_format='tabular', data_representation='numpy', data_split=None, data_fold_split='random', data_set_type='holistic-cross-validation', n_folds=None, n_training_folds=None, data_n_folds=10, data_n_training_folds=None, data_rotation=0, data_file=None, data_files=['iris_data.csv'], data_inputs=['sepal length', 'sepal width', 'petal length', 'petal width'], data_outputs=['Class'], data_weights=None, data_groups=None, data_output_sparse_categorical=False, data_columns_categorical_to_int=['Class:Iris-setosa,Iris-versicolor,Iris-virginica'], data_columns_categorical_to_int_direct=None, data_seed=1138, batch=1, prefetch=None, num_parallel_calls=4, cache=None, shuffle=None, repeat=False, steps_per_epoch=None, steps_per_validation_epoch=None, nogo=False, force=True, verbose=1, debug=1, cpus_per_task=None, gpu=False, render_model=True, save_model=True, log_training_set=True, log_validation_set=True, log_test_set=True, wandb=False, wandb_project='Supernetwork', note=None, network_type='fully_connected', network_test=False, input_shape0=[4], hidden_activation='elu', number_hidden_units=[20, 10], output_shape0=[3], output_activation='softmax', batch_normalization=False, conv_kernel_size=None, conv_number_filters=None, conv_pool_size=None, conv_padding='valid', conv_activation='elu', conv_batch_normalization=False, conv_strides=None, dropout=None, dropout_input=None, spatial_dropout=None, L1_regularization=None, L2_regularization=None)\n"
     ]
    }
   ],
   "source": [
    "parser = create_parser()\n",
    "args = parser.parse_args([\"@network.txt\", \"@data.txt\", \"@experiment.txt\", \"-v\",\n",
    "                          \"--force\", \"--log_training_set\", '--log_validation_set', '--log_test_set', '-d'])\n",
    "print(args)"
   ]
  },
  {
   "cell_type": "code",
   "execution_count": 11,
   "id": "26b488e5-8c0d-49aa-a05e-5c71a36ede8f",
   "metadata": {},
   "outputs": [
    {
     "name": "stdout",
     "output_type": "stream",
     "text": [
      "NO VISIBLE DEVICES!!!!\n",
      "GPUS: []\n",
      "NO GPU\n",
      "CSV file\n",
      "############# 1\n",
      "TOTAL DATA FILES: 1\n",
      "#############\n",
      "############# 1\n",
      "TOTAL DATA FOLDS: 10\n",
      "#############\n",
      "./results/iris_R00\n",
      "Fitting model\n",
      "\u001b[1m4/4\u001b[0m \u001b[32m━━━━━━━━━━━━━━━━━━━━\u001b[0m\u001b[37m\u001b[0m \u001b[1m0s\u001b[0m 6ms/step - loss: 0.0402 - sparse_categorical_accuracy: 0.9881 \n",
      "\u001b[1m4/4\u001b[0m \u001b[32m━━━━━━━━━━━━━━━━━━━━\u001b[0m\u001b[37m\u001b[0m \u001b[1m0s\u001b[0m 9ms/step \n",
      "\u001b[1m1/1\u001b[0m \u001b[32m━━━━━━━━━━━━━━━━━━━━\u001b[0m\u001b[37m\u001b[0m \u001b[1m0s\u001b[0m 24ms/step - loss: 0.0215 - sparse_categorical_accuracy: 1.0000\n",
      "\u001b[1m1/1\u001b[0m \u001b[32m━━━━━━━━━━━━━━━━━━━━\u001b[0m\u001b[37m\u001b[0m \u001b[1m0s\u001b[0m 18ms/step\n",
      "\u001b[1m1/1\u001b[0m \u001b[32m━━━━━━━━━━━━━━━━━━━━\u001b[0m\u001b[37m\u001b[0m \u001b[1m0s\u001b[0m 22ms/step - loss: 0.0022 - sparse_categorical_accuracy: 1.0000\n",
      "\u001b[1m1/1\u001b[0m \u001b[32m━━━━━━━━━━━━━━━━━━━━\u001b[0m\u001b[37m\u001b[0m \u001b[1m0s\u001b[0m 19ms/step\n"
     ]
    }
   ],
   "source": [
    "prepare_and_execute_experiment(args)"
   ]
  },
  {
   "cell_type": "code",
   "execution_count": null,
   "id": "c51ff529-58dd-437d-91d1-96afc6577546",
   "metadata": {},
   "outputs": [],
   "source": [
    "## Extra: alternative training\n",
    "\n",
    "# Load model and dataset and redo experiment \n",
    "model = keras.models.load_model('results/iris_R01_model.keras')\n",
    "sds = SuperDataSet(args)\n",
    "execute_exp(sds, model, args)"
   ]
  },
  {
   "cell_type": "code",
   "execution_count": null,
   "id": "ee9d9ec6-c15d-4bdb-81db-7914ecba659c",
   "metadata": {},
   "outputs": [],
   "source": [
    "## Extra: Alternative training\n",
    "\n",
    "sds = SuperDataSet(args)\n",
    "model = NetworkBuilder.args2model(args)\n",
    "execute_exp(sds, model, args)"
   ]
  },
  {
   "cell_type": "code",
   "execution_count": null,
   "id": "ece99b15-5f67-4979-abcd-095a2287e1a5",
   "metadata": {},
   "outputs": [],
   "source": []
  }
 ],
 "metadata": {
  "kernelspec": {
   "display_name": "Python 3 (ipykernel)",
   "language": "python",
   "name": "python3"
  },
  "language_info": {
   "codemirror_mode": {
    "name": "ipython",
    "version": 3
   },
   "file_extension": ".py",
   "mimetype": "text/x-python",
   "name": "python",
   "nbconvert_exporter": "python",
   "pygments_lexer": "ipython3",
   "version": "3.12.9"
  }
 },
 "nbformat": 4,
 "nbformat_minor": 5
}
