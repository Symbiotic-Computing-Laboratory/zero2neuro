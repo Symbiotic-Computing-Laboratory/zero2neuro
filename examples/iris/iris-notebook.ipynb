{
 "cells": [
  {
   "cell_type": "code",
   "execution_count": 1,
   "id": "445dadc3-f54e-48e1-97b3-b11e2db60c39",
   "metadata": {},
   "outputs": [
    {
     "name": "stderr",
     "output_type": "stream",
     "text": [
      "2025-05-29 14:41:43.137604: I tensorflow/core/util/port.cc:153] oneDNN custom operations are on. You may see slightly different numerical results due to floating-point round-off errors from different computation orders. To turn them off, set the environment variable `TF_ENABLE_ONEDNN_OPTS=0`.\n",
      "2025-05-29 14:41:43.157941: I tensorflow/core/platform/cpu_feature_guard.cc:210] This TensorFlow binary is optimized to use available CPU instructions in performance-critical operations.\n",
      "To enable the following instructions: SSE4.1 SSE4.2 AVX AVX2 AVX512F AVX512_VNNI FMA, in other operations, rebuild TensorFlow with the appropriate compiler flags.\n"
     ]
    }
   ],
   "source": [
    "import os\n",
    "import sys\n",
    "\n",
    "# Import keras3_tools from proper path\n",
    "neuro_path = os.getenv(\"NEURO_REPOSITORY_PATH\")\n",
    "assert neuro_path is not None, \"Environment variable NEURO_REPOSITORY_PATH must be set to directory above zero2neuro and keras3_tools\"\n",
    "\n",
    "sys.path.append(neuro_path + '/zero2neuro/src/')\n",
    "\n",
    "from zero2neuro import *\n",
    "from parser import *"
   ]
  },
  {
   "cell_type": "code",
   "execution_count": 2,
   "id": "135c2b53-0b59-4be5-a3da-42eb91fddd96",
   "metadata": {},
   "outputs": [
    {
     "name": "stdout",
     "output_type": "stream",
     "text": [
      "Namespace(experiment_name='iris', loss='mse', metrics=['mae', 'mse'], rotation=0, epochs=5000, learning_rate=0.001, clipnorm=None, results_path='./results', output_file_base='{args.experiment_name}_R{args.rotation:02d}', early_stopping_min_delta=0.01, early_stopping_patience=2000, early_stopping_monitor='loss', dataset_directory=None, training_mode='training_only', data_format='tabular', data_file='iris_data.csv', data_files=None, data_inputs=['sepal length', 'sepal width', 'petal length', 'petal width'], data_outputs=['Class'], data_output_sparse_categorical=True, batch=None, prefetch=3, num_parallel_calls=4, cache=None, shuffle=None, repeat=False, steps_per_epoch=None, steps_per_validation_epoch=None, nogo=False, force=True, verbose=1, cpus_per_task=None, gpu=False, render_model=True, save_model=True, log_training_set=True, log_validation_set=False, log_test_set=False, wandb=False, wandb_project='Supernetwork', note=None, network_type='fully_connected', input_shape0=[4], hidden_activation='elu', number_hidden_units=[20, 10], output_shape0=[1], output_activation='sigmoid', batch_normalization=False, conv_size=None, conv_nfilters=None, kernel_size=3, activation_conv='elu', dropout=None, dropout_input=None, spatial_dropout=None, L1_regularization=None, L2_regularization=None)\n"
     ]
    }
   ],
   "source": [
    "parser = create_parser()\n",
    "args = parser.parse_args([\"@network.txt\", \"@data.txt\", \"@experiment.txt\", \"-v\", \"--force\"])\n",
    "print(args)"
   ]
  },
  {
   "cell_type": "code",
   "execution_count": 3,
   "id": "26b488e5-8c0d-49aa-a05e-5c71a36ede8f",
   "metadata": {},
   "outputs": [
    {
     "name": "stdout",
     "output_type": "stream",
     "text": [
      "NO VISIBLE DEVICES!!!!\n",
      "GPUS: []\n",
      "NO GPU\n",
      "CSV file\n",
      "./results/iris_R00\n",
      "Fitting model\n",
      "\u001b[1m5/5\u001b[0m \u001b[32m━━━━━━━━━━━━━━━━━━━━\u001b[0m\u001b[37m\u001b[0m \u001b[1m0s\u001b[0m 4ms/step - loss: 0.1526 - mae: 0.2010 - mse: 0.1526 \n",
      "\u001b[1m5/5\u001b[0m \u001b[32m━━━━━━━━━━━━━━━━━━━━\u001b[0m\u001b[37m\u001b[0m \u001b[1m0s\u001b[0m 7ms/step \n"
     ]
    }
   ],
   "source": [
    "prepare_and_execute_experiment(args)"
   ]
  }
 ],
 "metadata": {
  "kernelspec": {
   "display_name": "Python 3 (ipykernel)",
   "language": "python",
   "name": "python3"
  },
  "language_info": {
   "codemirror_mode": {
    "name": "ipython",
    "version": 3
   },
   "file_extension": ".py",
   "mimetype": "text/x-python",
   "name": "python",
   "nbconvert_exporter": "python",
   "pygments_lexer": "ipython3",
   "version": "3.12.10"
  }
 },
 "nbformat": 4,
 "nbformat_minor": 5
}
