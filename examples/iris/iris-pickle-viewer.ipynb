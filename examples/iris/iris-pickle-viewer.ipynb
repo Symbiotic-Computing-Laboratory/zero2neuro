{
 "cells": [
  {
   "cell_type": "markdown",
   "id": "c417b303-6325-48c4-b0ca-9a72df984b1e",
   "metadata": {},
   "source": [
    "# Iris Example\n",
    "## Pickle Viewer\n",
    "This is the pickle viewer for the iris model. It is identical to the breast cancer model pickle viewer. Please feel free to play around with it to see how the model logs its results. To view the raw data from a pickle file just load the pickle file into a variable like **data = pickle.load(pickle_file)** then throw **data** into a cell and run it. "
   ]
  },
  {
   "cell_type": "code",
   "execution_count": null,
   "id": "eefba825-03db-4b4b-8b22-3fc8adba1cab",
   "metadata": {},
   "outputs": [],
   "source": [
    "import pickle\n",
    "import pandas as pd\n",
    "import matplotlib.pyplot as plt\n",
    "import numpy as np\n",
    "import os\n",
    "import seaborn as sns\n",
    "from sklearn import metrics\n",
    "\n",
    "# Assume the directory for the results is a subdirectory of working directory.\n",
    "directory ='./results' \n",
    "for filename in os.listdir(directory): # For each file in directory\n",
    "    if filename.endswith('.pkl'): # Find files that are pickle files\n",
    "        file_path = os.path.join(directory, filename) # Get the file path for those files\n",
    "        with open(file_path, 'rb') as pickle_file: # Open the files\n",
    "            data = pickle.load(pickle_file) # Grab the data from pickle\n",
    "            plt.plot(data['history']['loss'], label=filename) # Grab the loss data and plot\n",
    "\n",
    "# Set our labels and title for the graph\n",
    "plt.xlabel('Epoch')\n",
    "plt.ylabel('Loss')\n",
    "plt.title('Epoch/Loss')\n",
    "plt.grid(True) # This will enable the grid you can see in the graph below.\n",
    "plt.legend() # Show the legend\n",
    "\n",
    "# Saving functions, the reason you want png and pdf is because pdf can be resized without loss of quality for\n",
    "# professional use while the png is for ease of access. \n",
    "plt.savefig(\"figures/iris_graph.png\") \n",
    "plt.savefig(\"figures/iris_graph.pdf\")\n",
    "plt.show() # Show plot "
   ]
  },
  {
   "cell_type": "markdown",
   "id": "f752190a-88ed-40a8-ac6c-3d5746a59ae7",
   "metadata": {},
   "source": [
    "## Confusion Matrix\n",
    "This is where we set up and display our confusion matrix, which shows classification errors easily and is a great way to look at how your model is doing."
   ]
  },
  {
   "cell_type": "code",
   "execution_count": null,
   "id": "7a75840d-4afb-4e8a-b7d9-55bb123fa305",
   "metadata": {},
   "outputs": [],
   "source": [
    "# If you don't specify which file to open it would use the last one it plotted above. \n",
    "with open('results/iris_R02_results.pkl', 'rb') as pickle_file:\n",
    "    data = pickle.load(pickle_file)"
   ]
  },
  {
   "cell_type": "code",
   "execution_count": null,
   "id": "21ec2e53-f553-4dcd-800b-576dee170ab5",
   "metadata": {},
   "outputs": [],
   "source": [
    "array = np.array(data['predict_training'])\n",
    "predictions = []\n",
    "\n",
    "# Making a new array because sklearn really doesn't like sparse arrays. \n",
    "for x in array: \n",
    "    predictions.append(np.argmax(x))"
   ]
  },
  {
   "cell_type": "code",
   "execution_count": null,
   "id": "76c93018-f601-41c0-8a0b-93a7a37a9a0e",
   "metadata": {},
   "outputs": [],
   "source": [
    "# We grab the predictions array from earlier and our true_values to make a proper confusion matrix\n",
    "true_values = np.array(data['outs_training'])\n",
    "confusion_matrix = metrics.confusion_matrix(true_values, predictions)\n",
    "\n",
    "# This gets an array of the output mapping labels.\n",
    "output_mapping = dict(data['dataset']['categorical_translation'][0][1])\n",
    "outputs = []\n",
    "for key in output_mapping.keys():\n",
    "    outputs.append(key)\n",
    "\n",
    "# This creates the display for our confusion matrix. \n",
    "sns.heatmap(confusion_matrix, cmap='Blues', cbar=False, annot=True, fmt=\"d\")\n",
    "\n",
    "# y will tell how many squares the confusion matrix needs on each side. Outputs will label the ticks.\n",
    "y = len(output_mapping.keys())\n",
    "plt.xticks(np.arange(y)+0.5,outputs)\n",
    "plt.yticks(np.arange(y)+0.5,outputs)\n",
    "\n",
    "plt.xlabel(\"Predicted Classes\")\n",
    "plt.ylabel(\"Actual Classes\")"
   ]
  },
  {
   "cell_type": "code",
   "execution_count": null,
   "id": "8812dc39-5488-485f-8db5-4ac4f22ee50f",
   "metadata": {},
   "outputs": [],
   "source": []
  }
 ],
 "metadata": {
  "kernelspec": {
   "display_name": "Python 3 (ipykernel)",
   "language": "python",
   "name": "python3"
  },
  "language_info": {
   "codemirror_mode": {
    "name": "ipython",
    "version": 3
   },
   "file_extension": ".py",
   "mimetype": "text/x-python",
   "name": "python",
   "nbconvert_exporter": "python",
   "pygments_lexer": "ipython3",
   "version": "3.12.10"
  }
 },
 "nbformat": 4,
 "nbformat_minor": 5
}
