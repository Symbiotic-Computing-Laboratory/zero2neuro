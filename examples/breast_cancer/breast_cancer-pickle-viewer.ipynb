{
 "cells": [
  {
   "cell_type": "markdown",
   "id": "dee83885-53da-412d-bc0a-fcc497d6bcda",
   "metadata": {},
   "source": [
    "# Breast Cancer Example\n",
    "## Pickle Viewer\n",
    "This is the pickle viewer for the breast cancer model example. It is identical to the iris pickle viewer. Please feel free to play around with it to see how the model logs its results. To view the raw data from a pickle file just load the pickle file into a variable like **data = pickle.load(pickle_file)** then throw **data** into a cell and run it. "
   ]
  },
  {
   "cell_type": "code",
   "execution_count": null,
   "id": "f80b4a48-b7e5-4214-a056-292a388af720",
   "metadata": {},
   "outputs": [],
   "source": [
    "import pickle\n",
    "import pandas as pd\n",
    "import matplotlib.pyplot as plt\n",
    "import numpy as np\n",
    "import os\n",
    "import seaborn as sns\n",
    "from sklearn import metrics\n",
    "\n",
    "# Assume the directory for the results is a subdirectory of working directory.\n",
    "directory ='./results' \n",
    "for filename in os.listdir(directory): # For each file in directory\n",
    "    if filename.endswith('.pkl'): # Find files that are pickle files\n",
    "        file_path = os.path.join(directory, filename) # Get the file path for those files\n",
    "        with open(file_path, 'rb') as pickle_file: # Open the files\n",
    "            data = pickle.load(pickle_file) # Grab the data from pickle\n",
    "            plt.plot(data['history']['loss'], label=filename) # Grab the loss data and plot\n",
    "\n",
    "# Set our labels and title for the graph\n",
    "plt.xlabel('Epoch')\n",
    "plt.ylabel('Loss')\n",
    "plt.title('Epoch/Loss')\n",
    "plt.grid(True) # This will enable the grid you can see in the graph below.\n",
    "plt.legend() # Show the legend\n",
    "\n",
    "# Saving functions, the reason you want png and pdf is because pdf can be resized without loss of quality for\n",
    "# professional use while the png is for ease of access. \n",
    "plt.savefig(\"figures/breast_cancer_graph.png\") \n",
    "plt.savefig(\"figures/breast_cancer_graph.pdf\")\n",
    "plt.show() # Show plot "
   ]
  },
  {
   "cell_type": "markdown",
   "id": "3a69b493-000c-463d-af76-904a1bbd2114",
   "metadata": {},
   "source": [
    "## Confusion Matrix\n",
    "This is where we set up and display our confusion matrix, which shows classification errors easily and is a great way to look at how your model is doing."
   ]
  },
  {
   "cell_type": "code",
   "execution_count": null,
   "id": "f06eb0a2-3a18-4207-83fd-198088bd18e0",
   "metadata": {},
   "outputs": [],
   "source": [
    "# If you don't specify which file to open it would use the last one it plotted above. \n",
    "with open('results/breast_cancer_R00_results.pkl', 'rb') as pickle_file:\n",
    "    data = pickle.load(pickle_file)"
   ]
  },
  {
   "cell_type": "code",
   "execution_count": null,
   "id": "ef586a06-1e97-4e98-9fe0-49b33f380517",
   "metadata": {},
   "outputs": [],
   "source": [
    "array = np.array(data['predict_training'])\n",
    "predictions = []\n",
    "\n",
    "# Making a new array because sklearn really doesn't like sparse arrays. \n",
    "for x in array: \n",
    "    predictions.append(np.argmax(x))"
   ]
  },
  {
   "cell_type": "code",
   "execution_count": null,
   "id": "92fae6cd-e7a5-4817-bfbc-6b8b0e31821d",
   "metadata": {},
   "outputs": [],
   "source": [
    "# We grab the predictions array from earlier and our true_values to make a proper confusion matrix\n",
    "true_values = np.array(data['outs_training'])\n",
    "confusion_matrix = metrics.confusion_matrix(true_values, predictions)\n",
    "\n",
    "# This gets an array of the output mapping labels.\n",
    "outputs = []\n",
    "for x in data['dataset']['output_mapping']:\n",
    "    outputs.append(data['dataset']['output_mapping'][x])\n",
    "\n",
    "# This creates the display for our confusion matrix. \n",
    "sns.heatmap(confusion_matrix, cmap='Blues', cbar=False, annot=True, fmt=\"d\")\n",
    "\n",
    "# y will tell how many squares the confusion matrix needs on each side. Outputs will label the ticks.\n",
    "y = len(data['dataset']['output_mapping'])\n",
    "plt.xticks(np.arange(y)+0.5,outputs)\n",
    "plt.yticks(np.arange(y)+0.5,outputs)\n",
    "\n",
    "plt.xlabel(\"Predicted Classes\")\n",
    "plt.ylabel(\"Actual Classes\")"
   ]
  }
 ],
 "metadata": {
  "kernelspec": {
   "display_name": "Python 3 (ipykernel)",
   "language": "python",
   "name": "python3"
  },
  "language_info": {
   "codemirror_mode": {
    "name": "ipython",
    "version": 3
   },
   "file_extension": ".py",
   "mimetype": "text/x-python",
   "name": "python",
   "nbconvert_exporter": "python",
   "pygments_lexer": "ipython3",
   "version": "3.12.10"
  }
 },
 "nbformat": 4,
 "nbformat_minor": 5
}
