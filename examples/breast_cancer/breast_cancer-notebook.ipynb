{
 "cells": [
  {
   "cell_type": "markdown",
   "id": "f24a00ad-aa98-427d-85c0-0244e52ef7a4",
   "metadata": {},
   "source": [
    "# Breast Cancer Example\n",
    "## Training Notebook\n",
    "This notebook trains the model. The first cell imports everything needed. The second cell is where you pass in your arguments. The third cell runs the model training. Lastly, the fourth cell is there if you wish to continue training a certain model."
   ]
  },
  {
   "cell_type": "code",
   "execution_count": null,
   "id": "6dd71770-3a77-4612-8e83-2ec1235aa7bd",
   "metadata": {},
   "outputs": [],
   "source": [
    "import os\n",
    "import sys\n",
    "\n",
    "# Import keras3_tools from proper path\n",
    "neuro_path = os.getenv(\"NEURO_REPOSITORY_PATH\")\n",
    "assert neuro_path is not None, \"Environment variable NEURO_REPOSITORY_PATH must be set to directory above zero2neuro and keras3_tools\"\n",
    "\n",
    "sys.path.append(neuro_path + '/zero2neuro/src/')\n",
    "\n",
    "from zero2neuro import *\n",
    "from parser import *"
   ]
  },
  {
   "cell_type": "markdown",
   "id": "161c5650-bb62-4428-a6a2-40948fae278b",
   "metadata": {},
   "source": [
    "## Parser\n",
    "This is the argument parser. Inside of the parse_args function you can put in the arguments you want that are listed in the zero2neuro/src/parser.py file. The default set in this notebooks is as follows. \n",
    "\n",
    "@network.txt - Passes in the network file for iris  \n",
    "@data.txt - Passes in the data file for Iris  \n",
    "@experiment.txt - Passes in the experiment file for iris  \n",
    "**-v** - Handles the verbosity level, in this case it is low.    \n",
    "**--force** - Will overwrite a previous model with the same name with the new one.  \n",
    "**--log_training_set** - Puts the training set in the pickle file  \n",
    "**--log_validation_set** - Puts the validation set in the pickle file  \n",
    "**--log_test_set** - Puts the testing set in the pickle file  "
   ]
  },
  {
   "cell_type": "code",
   "execution_count": null,
   "id": "fb816b6f-f821-4b78-8848-22f42f4761ab",
   "metadata": {},
   "outputs": [],
   "source": [
    "parser = create_parser()\n",
    "args = parser.parse_args([\"@network.txt\", \"@data.txt\", \"@experiment.txt\", \"-v\",\n",
    "                          \"--force\", \"--log_training_set\", '--log_validation_set','--log_test_set'])\n",
    "print(args)"
   ]
  },
  {
   "cell_type": "code",
   "execution_count": null,
   "id": "311f78b1-abe2-430d-a3cf-8592bd34da01",
   "metadata": {},
   "outputs": [],
   "source": [
    "prepare_and_execute_experiment(args)"
   ]
  },
  {
   "cell_type": "code",
   "execution_count": null,
   "id": "70a9b8b3-8627-4d00-8c19-f9cf0a1672ab",
   "metadata": {},
   "outputs": [],
   "source": [
    "# Load model and dataset and redo experiment \n",
    "model = keras.models.load_model('results/breast_cancer_R00_model.keras')\n",
    "sds = SuperDataSet(args)\n",
    "execute_exp(sds, model, args)"
   ]
  }
 ],
 "metadata": {
  "kernelspec": {
   "display_name": "Python 3 (ipykernel)",
   "language": "python",
   "name": "python3"
  },
  "language_info": {
   "codemirror_mode": {
    "name": "ipython",
    "version": 3
   },
   "file_extension": ".py",
   "mimetype": "text/x-python",
   "name": "python",
   "nbconvert_exporter": "python",
   "pygments_lexer": "ipython3",
   "version": "3.12.10"
  }
 },
 "nbformat": 4,
 "nbformat_minor": 5
}
