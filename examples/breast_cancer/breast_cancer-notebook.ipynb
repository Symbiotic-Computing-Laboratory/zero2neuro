{
 "cells": [
  {
   "cell_type": "code",
   "execution_count": 15,
   "id": "6dd71770-3a77-4612-8e83-2ec1235aa7bd",
   "metadata": {},
   "outputs": [],
   "source": [
    "import os\n",
    "import sys\n",
    "\n",
    "# Import keras3_tools from proper path\n",
    "neuro_path = os.getenv(\"NEURO_REPOSITORY_PATH\")\n",
    "assert neuro_path is not None, \"Environment variable NEURO_REPOSITORY_PATH must be set to directory above zero2neuro and keras3_tools\"\n",
    "\n",
    "sys.path.append(neuro_path + '/zero2neuro/src/')\n",
    "\n",
    "from zero2neuro import *\n",
    "from parser import *"
   ]
  },
  {
   "cell_type": "code",
   "execution_count": 16,
   "id": "fb816b6f-f821-4b78-8848-22f42f4761ab",
   "metadata": {},
   "outputs": [
    {
     "name": "stdout",
     "output_type": "stream",
     "text": [
      "Namespace(experiment_name='breast_cancer', loss='sparse_categorical_crossentropy', metrics=['sparse_categorical_accuracy'], rotation=2, epochs=5000, learning_rate=0.0001, clipnorm=None, results_path='./results', output_file_base='{args.experiment_name}_R{args.rotation:02d}', early_stopping_min_delta=0.01, early_stopping_patience=2000, early_stopping_monitor='loss', dataset_directory=None, training_mode='training_only', data_format='tabular', data_file='wdbc.csv', data_files=None, data_inputs=['radius1', 'texture1', 'area1', 'smoothness1', 'compactness1', 'concavity1', 'concave_points1', 'symmetry1', 'fractal_dimension1', 'rasius2', 'texture2', 'perimeter2', 'area2', 'smoothness2', 'compactness2', 'concavity2', 'concave_points2', 'symmetry2', 'fractal_dimension2', 'radius3', 'texture3', 'perimeter3', 'area3', 'smoothness3', 'compactness3', 'concavity3', 'concave_points3', 'symmetry3', 'fractal_dimension3'], data_outputs=['Diagnosis'], data_output_sparse_categorical=True, batch=None, prefetch=3, num_parallel_calls=4, cache=None, shuffle=None, repeat=False, steps_per_epoch=None, steps_per_validation_epoch=None, nogo=False, force=True, verbose=1, cpus_per_task=None, gpu=False, render_model=True, save_model=True, log_training_set=True, log_validation_set=False, log_test_set=False, wandb=True, wandb_project='Supernetwork', note=None, network_type='fully_connected', input_shape0=[29], hidden_activation='elu', number_hidden_units=[20, 10], output_shape0=[2], output_activation='softmax', batch_normalization=False, conv_size=None, conv_nfilters=None, kernel_size=3, activation_conv='elu', dropout=None, dropout_input=None, spatial_dropout=None, L1_regularization=None, L2_regularization=None)\n"
     ]
    }
   ],
   "source": [
    "parser = create_parser()\n",
    "args = parser.parse_args([\"@network.txt\", \"@data.txt\", \"@experiment.txt\", \"-v\",\n",
    "                          \"--force\", \"--log_training_set\", '--wandb',])\n",
    "print(args)"
   ]
  },
  {
   "cell_type": "code",
   "execution_count": 17,
   "id": "311f78b1-abe2-430d-a3cf-8592bd34da01",
   "metadata": {},
   "outputs": [
    {
     "name": "stdout",
     "output_type": "stream",
     "text": [
      "NO VISIBLE DEVICES!!!!\n",
      "GPUS: []\n",
      "NO GPU\n",
      "Namespace(experiment_name='breast_cancer', loss='sparse_categorical_crossentropy', metrics=['sparse_categorical_accuracy'], rotation=2, epochs=5000, learning_rate=0.0001, clipnorm=None, results_path='./results', output_file_base='{args.experiment_name}_R{args.rotation:02d}', early_stopping_min_delta=0.01, early_stopping_patience=2000, early_stopping_monitor='loss', dataset_directory=None, training_mode='training_only', data_format='tabular', data_file='wdbc.csv', data_files=None, data_inputs=['radius1', 'texture1', 'area1', 'smoothness1', 'compactness1', 'concavity1', 'concave_points1', 'symmetry1', 'fractal_dimension1', 'rasius2', 'texture2', 'perimeter2', 'area2', 'smoothness2', 'compactness2', 'concavity2', 'concave_points2', 'symmetry2', 'fractal_dimension2', 'radius3', 'texture3', 'perimeter3', 'area3', 'smoothness3', 'compactness3', 'concavity3', 'concave_points3', 'symmetry3', 'fractal_dimension3'], data_outputs=['Diagnosis'], data_output_sparse_categorical=True, batch=None, prefetch=3, num_parallel_calls=4, cache=None, shuffle=None, repeat=False, steps_per_epoch=None, steps_per_validation_epoch=None, nogo=False, force=True, verbose=1, cpus_per_task=None, gpu=False, render_model=True, save_model=True, log_training_set=True, log_validation_set=False, log_test_set=False, wandb=True, wandb_project='Supernetwork', note=None, network_type='fully_connected', input_shape0=[29], hidden_activation='elu', number_hidden_units=[20, 10], output_shape0=[2], output_activation='softmax', batch_normalization=False, conv_size=None, conv_nfilters=None, kernel_size=3, activation_conv='elu', dropout=None, dropout_input=None, spatial_dropout=None, L1_regularization=None, L2_regularization=None)\n",
      "CSV file\n",
      "./results/breast_cancer_R02\n"
     ]
    },
    {
     "data": {
      "text/html": [
       "Finishing previous runs because reinit is set to 'default'."
      ],
      "text/plain": [
       "<IPython.core.display.HTML object>"
      ]
     },
     "metadata": {},
     "output_type": "display_data"
    },
    {
     "data": {
      "text/html": [],
      "text/plain": [
       "<IPython.core.display.HTML object>"
      ]
     },
     "metadata": {},
     "output_type": "display_data"
    },
    {
     "data": {
      "text/html": [
       "<br>    <style><br>        .wandb-row {<br>            display: flex;<br>            flex-direction: row;<br>            flex-wrap: wrap;<br>            justify-content: flex-start;<br>            width: 100%;<br>        }<br>        .wandb-col {<br>            display: flex;<br>            flex-direction: column;<br>            flex-basis: 100%;<br>            flex: 1;<br>            padding: 10px;<br>        }<br>    </style><br><div class=\"wandb-row\"><div class=\"wandb-col\"><h3>Run summary:</h3><br/><table class=\"wandb\"><tr><td>hostname</td><td>hyperion</td></tr></table><br/></div></div>"
      ],
      "text/plain": [
       "<IPython.core.display.HTML object>"
      ]
     },
     "metadata": {},
     "output_type": "display_data"
    },
    {
     "data": {
      "text/html": [
       " View run <strong style=\"color:#cdcd00\">breast_cancer_R2</strong> at: <a href='https://wandb.ai/luke-as-university-of-oklahoma/Supernetwork/runs/5wlsm0z1' target=\"_blank\">https://wandb.ai/luke-as-university-of-oklahoma/Supernetwork/runs/5wlsm0z1</a><br> View project at: <a href='https://wandb.ai/luke-as-university-of-oklahoma/Supernetwork' target=\"_blank\">https://wandb.ai/luke-as-university-of-oklahoma/Supernetwork</a><br>Synced 5 W&B file(s), 1 media file(s), 0 artifact file(s) and 0 other file(s)"
      ],
      "text/plain": [
       "<IPython.core.display.HTML object>"
      ]
     },
     "metadata": {},
     "output_type": "display_data"
    },
    {
     "data": {
      "text/html": [
       "Find logs at: <code>./wandb/run-20250604_105054-5wlsm0z1/logs</code>"
      ],
      "text/plain": [
       "<IPython.core.display.HTML object>"
      ]
     },
     "metadata": {},
     "output_type": "display_data"
    },
    {
     "data": {
      "text/html": [
       "Tracking run with wandb version 0.19.11"
      ],
      "text/plain": [
       "<IPython.core.display.HTML object>"
      ]
     },
     "metadata": {},
     "output_type": "display_data"
    },
    {
     "data": {
      "text/html": [
       "Run data is saved locally in <code>/home/lukes/projects/zero2neuro/examples/breast_cancer/wandb/run-20250604_105117-rqe8pnqk</code>"
      ],
      "text/plain": [
       "<IPython.core.display.HTML object>"
      ]
     },
     "metadata": {},
     "output_type": "display_data"
    },
    {
     "data": {
      "text/html": [
       "Syncing run <strong><a href='https://wandb.ai/luke-as-university-of-oklahoma/Supernetwork/runs/rqe8pnqk' target=\"_blank\">breast_cancer_R2</a></strong> to <a href='https://wandb.ai/luke-as-university-of-oklahoma/Supernetwork' target=\"_blank\">Weights & Biases</a> (<a href='https://wandb.me/developer-guide' target=\"_blank\">docs</a>)<br>"
      ],
      "text/plain": [
       "<IPython.core.display.HTML object>"
      ]
     },
     "metadata": {},
     "output_type": "display_data"
    },
    {
     "data": {
      "text/html": [
       " View project at <a href='https://wandb.ai/luke-as-university-of-oklahoma/Supernetwork' target=\"_blank\">https://wandb.ai/luke-as-university-of-oklahoma/Supernetwork</a>"
      ],
      "text/plain": [
       "<IPython.core.display.HTML object>"
      ]
     },
     "metadata": {},
     "output_type": "display_data"
    },
    {
     "data": {
      "text/html": [
       " View run at <a href='https://wandb.ai/luke-as-university-of-oklahoma/Supernetwork/runs/rqe8pnqk' target=\"_blank\">https://wandb.ai/luke-as-university-of-oklahoma/Supernetwork/runs/rqe8pnqk</a>"
      ],
      "text/plain": [
       "<IPython.core.display.HTML object>"
      ]
     },
     "metadata": {},
     "output_type": "display_data"
    },
    {
     "name": "stdout",
     "output_type": "stream",
     "text": [
      "Fitting model\n",
      "\u001b[1m18/18\u001b[0m \u001b[32m━━━━━━━━━━━━━━━━━━━━\u001b[0m\u001b[37m\u001b[0m \u001b[1m0s\u001b[0m 1ms/step - loss: 0.1177 - sparse_categorical_accuracy: 0.9407 \n",
      "\u001b[1m18/18\u001b[0m \u001b[32m━━━━━━━━━━━━━━━━━━━━\u001b[0m\u001b[37m\u001b[0m \u001b[1m0s\u001b[0m 2ms/step \n"
     ]
    },
    {
     "data": {
      "text/html": [],
      "text/plain": [
       "<IPython.core.display.HTML object>"
      ]
     },
     "metadata": {},
     "output_type": "display_data"
    },
    {
     "data": {
      "text/html": [
       "<br>    <style><br>        .wandb-row {<br>            display: flex;<br>            flex-direction: row;<br>            flex-wrap: wrap;<br>            justify-content: flex-start;<br>            width: 100%;<br>        }<br>        .wandb-col {<br>            display: flex;<br>            flex-direction: column;<br>            flex-basis: 100%;<br>            flex: 1;<br>            padding: 10px;<br>        }<br>    </style><br><div class=\"wandb-row\"><div class=\"wandb-col\"><h3>Run history:</h3><br/><table class=\"wandb\"><tr><td>epoch/epoch</td><td>▁▁▁▂▂▂▂▂▃▃▃▄▄▄▄▅▅▅▅▅▅▆▆▆▆▆▆▆▇▇▇▇▇▇▇█████</td></tr><tr><td>epoch/learning_rate</td><td>▁▁▁▁▁▁▁▁▁▁▁▁▁▁▁▁▁▁▁▁▁▁▁▁▁▁▁▁▁▁▁▁▁▁▁▁▁▁▁▁</td></tr><tr><td>epoch/loss</td><td>█▄▄▄▃▂▂▂▂▁▁▂▁▁▁▁▁▁▁▁▁▁▁▁▁▁▁▁▁▁▁▁▁▁▁▁▁▁▁▁</td></tr><tr><td>epoch/sparse_categorical_accuracy</td><td>▁▂▁▂▃▄▄▄▄▄▆▆▇▆▆▇▇▇▆▇▇▇▆▇▇▇█▇▆▇▇▇█▇██▇▇██</td></tr><tr><td>training_sparse_categorical_accuracy</td><td>▁</td></tr><tr><td>training_sparse_categorical_crossentropy</td><td>▁</td></tr></table><br/></div><div class=\"wandb-col\"><h3>Run summary:</h3><br/><table class=\"wandb\"><tr><td>epoch/epoch</td><td>4791</td></tr><tr><td>epoch/learning_rate</td><td>0.0001</td></tr><tr><td>epoch/loss</td><td>0.0731</td></tr><tr><td>epoch/sparse_categorical_accuracy</td><td>0.96837</td></tr><tr><td>hostname</td><td>hyperion</td></tr><tr><td>training_sparse_categorical_accuracy</td><td>0.95782</td></tr><tr><td>training_sparse_categorical_crossentropy</td><td>0.08877</td></tr></table><br/></div></div>"
      ],
      "text/plain": [
       "<IPython.core.display.HTML object>"
      ]
     },
     "metadata": {},
     "output_type": "display_data"
    },
    {
     "data": {
      "text/html": [
       " View run <strong style=\"color:#cdcd00\">breast_cancer_R2</strong> at: <a href='https://wandb.ai/luke-as-university-of-oklahoma/Supernetwork/runs/rqe8pnqk' target=\"_blank\">https://wandb.ai/luke-as-university-of-oklahoma/Supernetwork/runs/rqe8pnqk</a><br> View project at: <a href='https://wandb.ai/luke-as-university-of-oklahoma/Supernetwork' target=\"_blank\">https://wandb.ai/luke-as-university-of-oklahoma/Supernetwork</a><br>Synced 5 W&B file(s), 1 media file(s), 0 artifact file(s) and 0 other file(s)"
      ],
      "text/plain": [
       "<IPython.core.display.HTML object>"
      ]
     },
     "metadata": {},
     "output_type": "display_data"
    },
    {
     "data": {
      "text/html": [
       "Find logs at: <code>./wandb/run-20250604_105117-rqe8pnqk/logs</code>"
      ],
      "text/plain": [
       "<IPython.core.display.HTML object>"
      ]
     },
     "metadata": {},
     "output_type": "display_data"
    },
    {
     "name": "stdout",
     "output_type": "stream",
     "text": [
      "dict_keys(['training_sparse_categorical_crossentropy', 'training_sparse_categorical_accuracy', 'ins_training', 'outs_training', 'predict_training', 'dataset', 'fname_base', 'args', 'history'])\n"
     ]
    }
   ],
   "source": [
    "prepare_and_execute_experiment(args)"
   ]
  },
  {
   "cell_type": "code",
   "execution_count": 11,
   "id": "70a9b8b3-8627-4d00-8c19-f9cf0a1672ab",
   "metadata": {},
   "outputs": [
    {
     "name": "stdout",
     "output_type": "stream",
     "text": [
      "CSV file\n",
      "./results/breast_cancer_R02\n"
     ]
    },
    {
     "data": {
      "text/html": [
       "Tracking run with wandb version 0.19.11"
      ],
      "text/plain": [
       "<IPython.core.display.HTML object>"
      ]
     },
     "metadata": {},
     "output_type": "display_data"
    },
    {
     "data": {
      "text/html": [
       "Run data is saved locally in <code>/home/lukes/projects/zero2neuro/examples/breast_cancer/wandb/run-20250604_104700-39xi99wa</code>"
      ],
      "text/plain": [
       "<IPython.core.display.HTML object>"
      ]
     },
     "metadata": {},
     "output_type": "display_data"
    },
    {
     "data": {
      "text/html": [
       "Syncing run <strong><a href='https://wandb.ai/luke-as-university-of-oklahoma/Supernetwork/runs/39xi99wa' target=\"_blank\">breast_cancer_R2</a></strong> to <a href='https://wandb.ai/luke-as-university-of-oklahoma/Supernetwork' target=\"_blank\">Weights & Biases</a> (<a href='https://wandb.me/developer-guide' target=\"_blank\">docs</a>)<br>"
      ],
      "text/plain": [
       "<IPython.core.display.HTML object>"
      ]
     },
     "metadata": {},
     "output_type": "display_data"
    },
    {
     "data": {
      "text/html": [
       " View project at <a href='https://wandb.ai/luke-as-university-of-oklahoma/Supernetwork' target=\"_blank\">https://wandb.ai/luke-as-university-of-oklahoma/Supernetwork</a>"
      ],
      "text/plain": [
       "<IPython.core.display.HTML object>"
      ]
     },
     "metadata": {},
     "output_type": "display_data"
    },
    {
     "data": {
      "text/html": [
       " View run at <a href='https://wandb.ai/luke-as-university-of-oklahoma/Supernetwork/runs/39xi99wa' target=\"_blank\">https://wandb.ai/luke-as-university-of-oklahoma/Supernetwork/runs/39xi99wa</a>"
      ],
      "text/plain": [
       "<IPython.core.display.HTML object>"
      ]
     },
     "metadata": {},
     "output_type": "display_data"
    },
    {
     "name": "stdout",
     "output_type": "stream",
     "text": [
      "Fitting model\n",
      "\u001b[1m18/18\u001b[0m \u001b[32m━━━━━━━━━━━━━━━━━━━━\u001b[0m\u001b[37m\u001b[0m \u001b[1m0s\u001b[0m 1ms/step - loss: 0.0632 - sparse_categorical_accuracy: 0.9744 \n",
      "\u001b[1m18/18\u001b[0m \u001b[32m━━━━━━━━━━━━━━━━━━━━\u001b[0m\u001b[37m\u001b[0m \u001b[1m0s\u001b[0m 2ms/step \n"
     ]
    },
    {
     "data": {
      "text/html": [],
      "text/plain": [
       "<IPython.core.display.HTML object>"
      ]
     },
     "metadata": {},
     "output_type": "display_data"
    },
    {
     "data": {
      "text/html": [
       "<br>    <style><br>        .wandb-row {<br>            display: flex;<br>            flex-direction: row;<br>            flex-wrap: wrap;<br>            justify-content: flex-start;<br>            width: 100%;<br>        }<br>        .wandb-col {<br>            display: flex;<br>            flex-direction: column;<br>            flex-basis: 100%;<br>            flex: 1;<br>            padding: 10px;<br>        }<br>    </style><br><div class=\"wandb-row\"><div class=\"wandb-col\"><h3>Run history:</h3><br/><table class=\"wandb\"><tr><td>epoch/epoch</td><td>▁▁▁▂▂▂▂▂▂▂▃▃▃▃▃▃▃▄▄▅▅▅▅▅▅▆▆▆▆▆▇▇▇▇▇█████</td></tr><tr><td>epoch/learning_rate</td><td>▁▁▁▁▁▁▁▁▁▁▁▁▁▁▁▁▁▁▁▁▁▁▁▁▁▁▁▁▁▁▁▁▁▁▁▁▁▁▁▁</td></tr><tr><td>epoch/loss</td><td>▆▇▅▅▅▆▄▇▄▅▃▄▃▃▄▅▃▇▃▃▃▂▃█▄▂▃▃▂▂▁▂▂▁▂▁▃▂▂▂</td></tr><tr><td>epoch/sparse_categorical_accuracy</td><td>▃▃▃▃▃▄▅▃▅▂▃▅▅▅▇▁▄▄▅▅▅▅▄▅▄▆▅█▆▇▇▆▅▅▅▅▅█▆▆</td></tr><tr><td>training_sparse_categorical_accuracy</td><td>▁</td></tr><tr><td>training_sparse_categorical_crossentropy</td><td>▁</td></tr></table><br/></div><div class=\"wandb-col\"><h3>Run summary:</h3><br/><table class=\"wandb\"><tr><td>epoch/epoch</td><td>3718</td></tr><tr><td>epoch/learning_rate</td><td>0.0001</td></tr><tr><td>epoch/loss</td><td>0.05211</td></tr><tr><td>epoch/sparse_categorical_accuracy</td><td>0.97715</td></tr><tr><td>hostname</td><td>hyperion</td></tr><tr><td>training_sparse_categorical_accuracy</td><td>0.98067</td></tr><tr><td>training_sparse_categorical_crossentropy</td><td>0.05816</td></tr></table><br/></div></div>"
      ],
      "text/plain": [
       "<IPython.core.display.HTML object>"
      ]
     },
     "metadata": {},
     "output_type": "display_data"
    },
    {
     "data": {
      "text/html": [
       " View run <strong style=\"color:#cdcd00\">breast_cancer_R2</strong> at: <a href='https://wandb.ai/luke-as-university-of-oklahoma/Supernetwork/runs/39xi99wa' target=\"_blank\">https://wandb.ai/luke-as-university-of-oklahoma/Supernetwork/runs/39xi99wa</a><br> View project at: <a href='https://wandb.ai/luke-as-university-of-oklahoma/Supernetwork' target=\"_blank\">https://wandb.ai/luke-as-university-of-oklahoma/Supernetwork</a><br>Synced 5 W&B file(s), 1 media file(s), 0 artifact file(s) and 0 other file(s)"
      ],
      "text/plain": [
       "<IPython.core.display.HTML object>"
      ]
     },
     "metadata": {},
     "output_type": "display_data"
    },
    {
     "data": {
      "text/html": [
       "Find logs at: <code>./wandb/run-20250604_104700-39xi99wa/logs</code>"
      ],
      "text/plain": [
       "<IPython.core.display.HTML object>"
      ]
     },
     "metadata": {},
     "output_type": "display_data"
    },
    {
     "name": "stdout",
     "output_type": "stream",
     "text": [
      "dict_keys(['training_sparse_categorical_crossentropy', 'training_sparse_categorical_accuracy', 'ins_training', 'outs_training', 'predict_training', 'dataset', 'fname_base', 'args', 'history'])\n"
     ]
    }
   ],
   "source": [
    "# Load model and dataset and redo experiment \n",
    "model = tf.keras.models.load_model('results/breast_cancer_R00_model.keras')\n",
    "sds = SuperDataSet(args)\n",
    "execute_exp(sds, model, args)"
   ]
  },
  {
   "cell_type": "code",
   "execution_count": null,
   "id": "09c83d1f-05db-40cf-9ea9-5c1f03b9a56e",
   "metadata": {},
   "outputs": [],
   "source": []
  }
 ],
 "metadata": {
  "kernelspec": {
   "display_name": "Python 3 (ipykernel)",
   "language": "python",
   "name": "python3"
  },
  "language_info": {
   "codemirror_mode": {
    "name": "ipython",
    "version": 3
   },
   "file_extension": ".py",
   "mimetype": "text/x-python",
   "name": "python",
   "nbconvert_exporter": "python",
   "pygments_lexer": "ipython3",
   "version": "3.12.10"
  }
 },
 "nbformat": 4,
 "nbformat_minor": 5
}
